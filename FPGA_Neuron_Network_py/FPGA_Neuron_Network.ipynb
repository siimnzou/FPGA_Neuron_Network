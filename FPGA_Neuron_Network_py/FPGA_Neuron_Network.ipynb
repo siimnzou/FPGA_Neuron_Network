{
 "cells": [
  {
   "cell_type": "markdown",
   "id": "a1b59e2d",
   "metadata": {},
   "source": [
    "# 加载MNIST数据"
   ]
  },
  {
   "cell_type": "code",
   "execution_count": 1,
   "id": "e5474808",
   "metadata": {
    "ExecuteTime": {
     "end_time": "2022-09-19T09:20:39.393336Z",
     "start_time": "2022-09-19T09:20:38.196349Z"
    }
   },
   "outputs": [],
   "source": [
    "import tensorflow as tf\n",
    "import numpy as np"
   ]
  },
  {
   "cell_type": "code",
   "execution_count": 2,
   "id": "a287ccaa",
   "metadata": {
    "ExecuteTime": {
     "end_time": "2022-09-19T09:20:39.708667Z",
     "start_time": "2022-09-19T09:20:39.394333Z"
    }
   },
   "outputs": [],
   "source": [
    "# 加载fishion_mnist\n",
    "(train_image,train_label),(test_image,test_label) = tf.keras.datasets.mnist.load_data()"
   ]
  },
  {
   "cell_type": "code",
   "execution_count": 3,
   "id": "bc8c6061",
   "metadata": {
    "ExecuteTime": {
     "end_time": "2022-09-19T09:20:39.803576Z",
     "start_time": "2022-09-19T09:20:39.709664Z"
    }
   },
   "outputs": [],
   "source": [
    "train_image = train_image/255\n",
    "test_image = test_image/255"
   ]
  },
  {
   "cell_type": "code",
   "execution_count": 4,
   "id": "53f8b7d8",
   "metadata": {
    "ExecuteTime": {
     "end_time": "2022-09-19T09:20:39.819506Z",
     "start_time": "2022-09-19T09:20:39.804573Z"
    }
   },
   "outputs": [],
   "source": [
    "train_image_resize = np.reshape(train_image,(60000,784))\n",
    "test_image_resize = np.reshape(test_image,(10000,784))"
   ]
  },
  {
   "cell_type": "code",
   "execution_count": 5,
   "id": "d2de4ace",
   "metadata": {
    "ExecuteTime": {
     "end_time": "2022-09-19T09:20:39.835453Z",
     "start_time": "2022-09-19T09:20:39.820503Z"
    }
   },
   "outputs": [],
   "source": [
    "train_label_onehot = tf.keras.utils.to_categorical(train_label)\n",
    "test_label_onehot  = tf.keras.utils.to_categorical(test_label)"
   ]
  },
  {
   "cell_type": "markdown",
   "id": "9f68f3f2",
   "metadata": {},
   "source": [
    "# Tensorflow 训练神经网络模型"
   ]
  },
  {
   "cell_type": "code",
   "execution_count": 6,
   "id": "f5468169",
   "metadata": {
    "ExecuteTime": {
     "end_time": "2022-09-19T09:20:39.850420Z",
     "start_time": "2022-09-19T09:20:39.836450Z"
    }
   },
   "outputs": [],
   "source": [
    "import tensorflow as tf"
   ]
  },
  {
   "cell_type": "code",
   "execution_count": 7,
   "id": "67b74f35",
   "metadata": {
    "ExecuteTime": {
     "end_time": "2022-09-19T09:20:40.490359Z",
     "start_time": "2022-09-19T09:20:39.851417Z"
    }
   },
   "outputs": [],
   "source": [
    "model = tf.keras.Sequential([\n",
    "    tf.keras.layers.Dense(30,input_shape=(784,),activation  = 'relu'),\n",
    "    tf.keras.layers.Dense(30,activation='relu'),\n",
    "    tf.keras.layers.Dense(10,activation='relu'),\n",
    "    tf.keras.layers.Dense(10,activation='softmax')\n",
    "    ])"
   ]
  },
  {
   "cell_type": "code",
   "execution_count": 8,
   "id": "1f45c19c",
   "metadata": {
    "ExecuteTime": {
     "end_time": "2022-09-19T09:20:40.506071Z",
     "start_time": "2022-09-19T09:20:40.491355Z"
    }
   },
   "outputs": [
    {
     "name": "stdout",
     "output_type": "stream",
     "text": [
      "Model: \"sequential\"\n",
      "_________________________________________________________________\n",
      "Layer (type)                 Output Shape              Param #   \n",
      "=================================================================\n",
      "dense (Dense)                (None, 30)                23550     \n",
      "_________________________________________________________________\n",
      "dense_1 (Dense)              (None, 30)                930       \n",
      "_________________________________________________________________\n",
      "dense_2 (Dense)              (None, 10)                310       \n",
      "_________________________________________________________________\n",
      "dense_3 (Dense)              (None, 10)                110       \n",
      "=================================================================\n",
      "Total params: 24,900\n",
      "Trainable params: 24,900\n",
      "Non-trainable params: 0\n",
      "_________________________________________________________________\n"
     ]
    }
   ],
   "source": [
    "model.summary()"
   ]
  },
  {
   "cell_type": "code",
   "execution_count": 9,
   "id": "6f5bca28",
   "metadata": {
    "ExecuteTime": {
     "end_time": "2022-09-19T09:20:40.521577Z",
     "start_time": "2022-09-19T09:20:40.507319Z"
    }
   },
   "outputs": [],
   "source": [
    "model.compile(optimizer='adam',\n",
    "              loss='categorical_crossentropy',\n",
    "              metrics=['acc'])"
   ]
  },
  {
   "cell_type": "code",
   "execution_count": 10,
   "id": "bdefdc8f",
   "metadata": {
    "ExecuteTime": {
     "end_time": "2022-09-19T09:21:00.222630Z",
     "start_time": "2022-09-19T09:20:40.522575Z"
    }
   },
   "outputs": [
    {
     "name": "stdout",
     "output_type": "stream",
     "text": [
      "Epoch 1/10\n",
      "1875/1875 [==============================] - 3s 1ms/step - loss: 0.4605 - acc: 0.8573 - val_loss: 0.1822 - val_acc: 0.9475\n",
      "Epoch 2/10\n",
      "1875/1875 [==============================] - 2s 973us/step - loss: 0.1692 - acc: 0.9501 - val_loss: 0.1418 - val_acc: 0.9579\n",
      "Epoch 3/10\n",
      "1875/1875 [==============================] - 2s 962us/step - loss: 0.1337 - acc: 0.9599 - val_loss: 0.1407 - val_acc: 0.9591\n",
      "Epoch 4/10\n",
      "1875/1875 [==============================] - 2s 1ms/step - loss: 0.1145 - acc: 0.9655 - val_loss: 0.1326 - val_acc: 0.9615\n",
      "Epoch 5/10\n",
      "1875/1875 [==============================] - 2s 980us/step - loss: 0.0998 - acc: 0.9698 - val_loss: 0.1200 - val_acc: 0.9660\n",
      "Epoch 6/10\n",
      "1875/1875 [==============================] - 2s 982us/step - loss: 0.0914 - acc: 0.9715 - val_loss: 0.1178 - val_acc: 0.9671\n",
      "Epoch 7/10\n",
      "1875/1875 [==============================] - 2s 999us/step - loss: 0.0813 - acc: 0.9745 - val_loss: 0.1192 - val_acc: 0.9661\n",
      "Epoch 8/10\n",
      "1875/1875 [==============================] - 2s 996us/step - loss: 0.0745 - acc: 0.9764 - val_loss: 0.1232 - val_acc: 0.9662\n",
      "Epoch 9/10\n",
      "1875/1875 [==============================] - 2s 995us/step - loss: 0.0699 - acc: 0.9780 - val_loss: 0.1280 - val_acc: 0.9647\n",
      "Epoch 10/10\n",
      "1875/1875 [==============================] - 2s 994us/step - loss: 0.0635 - acc: 0.9804 - val_loss: 0.1160 - val_acc: 0.9693\n"
     ]
    }
   ],
   "source": [
    "history = model.fit(train_image_resize,train_label_onehot,epochs=10,validation_data = (test_image_resize,test_label_onehot))"
   ]
  },
  {
   "cell_type": "code",
   "execution_count": 11,
   "id": "d610ddcc",
   "metadata": {
    "ExecuteTime": {
     "end_time": "2022-09-19T09:21:00.569496Z",
     "start_time": "2022-09-19T09:21:00.223629Z"
    }
   },
   "outputs": [],
   "source": [
    "import matplotlib.pyplot as plt"
   ]
  },
  {
   "cell_type": "code",
   "execution_count": 12,
   "id": "14f59444",
   "metadata": {
    "ExecuteTime": {
     "end_time": "2022-09-19T09:21:00.647545Z",
     "start_time": "2022-09-19T09:21:00.570493Z"
    }
   },
   "outputs": [
    {
     "data": {
      "text/plain": [
       "<matplotlib.legend.Legend at 0x1ed0788f100>"
      ]
     },
     "execution_count": 12,
     "metadata": {},
     "output_type": "execute_result"
    },
    {
     "data": {
      "image/png": "[encoded data removed]",
      "text/plain": [
       "<Figure size 432x288 with 1 Axes>"
      ]
     },
     "metadata": {
      "needs_background": "light"
     },
     "output_type": "display_data"
    }
   ],
   "source": [
    "plt.plot(history.epoch,history.history.get('loss'),label = 'loss')\n",
    "plt.plot(history.epoch,history.history.get('val_loss'),label = 'val_loss')\n",
    "plt.legend()"
   ]
  },
  {
   "cell_type": "code",
   "execution_count": 13,
   "id": "ddf190f3",
   "metadata": {
    "ExecuteTime": {
     "end_time": "2022-09-19T09:21:00.709928Z",
     "start_time": "2022-09-19T09:21:00.648542Z"
    },
    "scrolled": true
   },
   "outputs": [
    {
     "data": {
      "text/plain": [
       "<matplotlib.legend.Legend at 0x1ed0a48ff10>"
      ]
     },
     "execution_count": 13,
     "metadata": {},
     "output_type": "execute_result"
    },
    {
     "data": {
      "image/png": "[encoded data removed]",
      "text/plain": [
       "<Figure size 432x288 with 1 Axes>"
      ]
     },
     "metadata": {
      "needs_background": "light"
     },
     "output_type": "display_data"
    }
   ],
   "source": [
    "plt.plot(history.epoch,history.history.get('acc'),label = 'acc')\n",
    "plt.plot(history.epoch,history.history.get('val_acc'),label = 'val_acc')\n",
    "plt.legend()"
   ]
  },
  {
   "cell_type": "markdown",
   "id": "e573c630",
   "metadata": {
    "ExecuteTime": {
     "end_time": "2022-09-19T06:07:29.945011Z",
     "start_time": "2022-09-19T06:07:29.929531Z"
    }
   },
   "source": [
    "# 对模型权重和偏置进行量化生成mif文件"
   ]
  },
  {
   "cell_type": "code",
   "execution_count": 14,
   "id": "ca213b42",
   "metadata": {
    "ExecuteTime": {
     "end_time": "2022-09-19T09:21:00.725959Z",
     "start_time": "2022-09-19T09:21:00.710927Z"
    }
   },
   "outputs": [],
   "source": [
    "import json\n",
    "weight = model.get_weights()"
   ]
  },
  {
   "cell_type": "code",
   "execution_count": 15,
   "id": "40ed3d30",
   "metadata": {
    "ExecuteTime": {
     "end_time": "2022-09-19T09:21:00.741145Z",
     "start_time": "2022-09-19T09:21:00.726880Z"
    }
   },
   "outputs": [],
   "source": [
    "# 将 浮点数 量化成定点数\n",
    "def DtoB(num,dataWidth,fracBits):   #funtion for converting into two's complement format\n",
    "    if num >= 0:\n",
    "        num = num * (2**fracBits)\n",
    "        num = int(num)\n",
    "        d = num\n",
    "    else:\n",
    "        num = -num\n",
    "        num = num * (2**fracBits)    #number of fractional bits\n",
    "        num = int(num)\n",
    "        if num == 0:\n",
    "            d = 0\n",
    "        else:\n",
    "            d = 2**dataWidth - num\n",
    "    return d"
   ]
  },
  {
   "cell_type": "code",
   "execution_count": 16,
   "id": "5cfd1780",
   "metadata": {
    "ExecuteTime": {
     "end_time": "2022-09-19T09:21:00.756815Z",
     "start_time": "2022-09-19T09:21:00.742110Z"
    }
   },
   "outputs": [],
   "source": [
    "#定义数据位宽以及权重整数位宽和数据整数位宽\n",
    "outputPath = \"./w_b/\"\n",
    "weightIntWidth = 4\n",
    "dataWidth = 16\n",
    "dataIntWidth=1\n",
    "dataFracWidth = dataWidth-dataIntWidth\n",
    "weightFracWidth = dataWidth-weightIntWidth\n",
    "biasIntWidth = dataIntWidth+weightIntWidth\n",
    "biasFracWidth = dataWidth-biasIntWidth"
   ]
  },
  {
   "cell_type": "code",
   "execution_count": 17,
   "id": "f090d953",
   "metadata": {
    "ExecuteTime": {
     "end_time": "2022-09-19T09:21:01.114334Z",
     "start_time": "2022-09-19T09:21:00.757813Z"
    }
   },
   "outputs": [],
   "source": [
    "#生成 权重的 mif 文件\n",
    "for layer in range(0,len(weight)//2):\n",
    "    for neuron in range(0,weight[2*layer].shape[1]):\n",
    "        file = 'w_'+str(layer+1)+'_'+str(neuron)+'.mif'\n",
    "        f = open(outputPath+file,'w')\n",
    "        for i in range(0,len(weight[2*layer])):\n",
    "            if 'e' in str(weight[2*layer][i][neuron]):\n",
    "                w = '0'\n",
    "            else:\n",
    "                if(weight[2*layer][i][neuron] > 2**(weightIntWidth-1)):\n",
    "                    weight[2*layer][i][neuron] = 2**(weightIntWidth-1)-2**(-weightFracWidth)\n",
    "                elif(weight[2*layer][i][neuron] < -2**(weightIntWidth-1)):\n",
    "                    weight[2*layer][i][neuron] = -2**(weightIntWidth-1)\n",
    "                p = bin(DtoB(weight[2*layer][i][neuron],dataWidth,weightFracWidth))[2:]\n",
    "            f.write(str(p)+'\\n')\n",
    "        f.close()"
   ]
  },
  {
   "cell_type": "code",
   "execution_count": 18,
   "id": "655eda55",
   "metadata": {
    "ExecuteTime": {
     "end_time": "2022-09-19T09:21:01.176810Z",
     "start_time": "2022-09-19T09:21:01.114954Z"
    }
   },
   "outputs": [],
   "source": [
    "# 生成偏置的 mif 文件\n",
    "for layer in range(0,len(weight)//2):\n",
    "    for neuron in range(0,weight[2*layer+1].shape[0]):\n",
    "        file = 'b_'+str(layer+1)+'_'+str(neuron)+'.mif'\n",
    "        f = open(outputPath+file,'w')\n",
    "        if 'e' in str(weight[2*layer+1][neuron]):\n",
    "            w = '0'\n",
    "        else:\n",
    "            if(weight[2*layer+1][neuron] > 2**(weightIntWidth-1)):\n",
    "                weight[2*layer+1][neuron] = 2**(weightIntWidth-1)-2**(-weightFracWidth)\n",
    "            elif(weight[2*layer+1][neuron] < -2**(weightIntWidth-1)):\n",
    "                weight[2*layer+1][neuron] = -2**(weightIntWidth-1)\n",
    "            p = bin(DtoB(weight[2*layer+1][neuron],dataWidth,weightFracWidth))[2:]\n",
    "        f.write(str(p)+'\\n')\n",
    "        f.close()"
   ]
  },
  {
   "cell_type": "markdown",
   "id": "ec41cf80",
   "metadata": {},
   "source": [
    "# 生成测试数据"
   ]
  },
  {
   "cell_type": "markdown",
   "id": "ed1d8c46",
   "metadata": {},
   "source": [
    "## 前面784个数据为数据 最后一个数据表示其分类"
   ]
  },
  {
   "cell_type": "code",
   "execution_count": 19,
   "id": "e97a058b",
   "metadata": {
    "ExecuteTime": {
     "end_time": "2022-09-19T09:21:01.192350Z",
     "start_time": "2022-09-19T09:21:01.177810Z"
    }
   },
   "outputs": [],
   "source": [
    "testoutputPath = \"./testData/\"\n",
    "dataWidth = 16                    \n",
    "IntSize = 1 \n",
    "fracWidth = dataWidth - IntSize"
   ]
  },
  {
   "cell_type": "code",
   "execution_count": 20,
   "id": "fca1e70f",
   "metadata": {
    "ExecuteTime": {
     "end_time": "2022-09-19T09:21:19.713495Z",
     "start_time": "2022-09-19T09:21:01.193349Z"
    }
   },
   "outputs": [],
   "source": [
    "# 获取测试数据\n",
    "for i in range(0,test_image_resize.shape[0]):   #获取所有数据使用  test_image_resize.shape[0]\n",
    "    if i < 10:\n",
    "        file_name = \"000\" + str(i)\n",
    "    elif i < 100:\n",
    "        file_name = \"00\" + str(i)\n",
    "    elif i < 1000:\n",
    "        file_name = \"0\" + str(i)\n",
    "    else :\n",
    "        file_name = str(i)\n",
    "    file_name_final = 'test_data_' + file_name + '.txt'\n",
    "    f = open(testoutputPath + file_name_final ,'w')\n",
    "    for j in range(0,test_image_resize[i].shape[0]):\n",
    "        dInDec = DtoB(test_image_resize[i][j],dataWidth,fracWidth)\n",
    "        myData = bin(dInDec)[2:]\n",
    "        f.write(str(myData)+'\\n')\n",
    "    f.write(str(bin(DtoB(test_label[i],dataWidth,0))[2:])+'\\n')\n",
    "    f.close()"
   ]
  }
 ],
 "metadata": {
  "kernelspec": {
   "display_name": "Python 3 (ipykernel)",
   "language": "python",
   "name": "python3"
  },
  "language_info": {
   "codemirror_mode": {
    "name": "ipython",
    "version": 3
   },
   "file_extension": ".py",
   "mimetype": "text/x-python",
   "name": "python",
   "nbconvert_exporter": "python",
   "pygments_lexer": "ipython3",
   "version": "3.9.12"
  }
 },
 "nbformat": 4,
 "nbformat_minor": 5
}
