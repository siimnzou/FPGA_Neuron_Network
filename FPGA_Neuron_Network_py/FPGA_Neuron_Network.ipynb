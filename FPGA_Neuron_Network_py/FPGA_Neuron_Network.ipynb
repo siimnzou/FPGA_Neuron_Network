{
 "cells": [
  {
   "cell_type": "markdown",
   "id": "a1b59e2d",
   "metadata": {},
   "source": [
    "# 加载MNIST数据"
   ]
  },
  {
   "cell_type": "code",
   "execution_count": 1,
   "id": "e5474808",
   "metadata": {
    "ExecuteTime": {
     "end_time": "2022-09-20T10:30:31.910826Z",
     "start_time": "2022-09-20T10:30:28.642481Z"
    }
   },
   "outputs": [],
   "source": [
    "import tensorflow as tf\n",
    "import numpy as np"
   ]
  },
  {
   "cell_type": "code",
   "execution_count": 2,
   "id": "a287ccaa",
   "metadata": {
    "ExecuteTime": {
     "end_time": "2022-09-20T10:30:32.338396Z",
     "start_time": "2022-09-20T10:30:31.911828Z"
    }
   },
   "outputs": [],
   "source": [
    "# 加载fishion_mnist\n",
    "(train_image,train_label),(test_image,test_label) = tf.keras.datasets.mnist.load_data()"
   ]
  },
  {
   "cell_type": "code",
   "execution_count": 3,
   "id": "bc8c6061",
   "metadata": {
    "ExecuteTime": {
     "end_time": "2022-09-20T10:30:32.433726Z",
     "start_time": "2022-09-20T10:30:32.339442Z"
    }
   },
   "outputs": [],
   "source": [
    "train_image = train_image/256\n",
    "test_image = test_image/256"
   ]
  },
  {
   "cell_type": "code",
   "execution_count": 4,
   "id": "53f8b7d8",
   "metadata": {
    "ExecuteTime": {
     "end_time": "2022-09-20T10:30:32.449737Z",
     "start_time": "2022-09-20T10:30:32.434785Z"
    }
   },
   "outputs": [],
   "source": [
    "train_image_resize = np.reshape(train_image,(60000,784))\n",
    "test_image_resize = np.reshape(test_image,(10000,784))"
   ]
  },
  {
   "cell_type": "code",
   "execution_count": 5,
   "id": "d2de4ace",
   "metadata": {
    "ExecuteTime": {
     "end_time": "2022-09-20T10:30:32.465742Z",
     "start_time": "2022-09-20T10:30:32.450741Z"
    }
   },
   "outputs": [],
   "source": [
    "train_label_onehot = tf.keras.utils.to_categorical(train_label)\n",
    "test_label_onehot  = tf.keras.utils.to_categorical(test_label)"
   ]
  },
  {
   "cell_type": "markdown",
   "id": "9f68f3f2",
   "metadata": {},
   "source": [
    "# Tensorflow 训练神经网络模型"
   ]
  },
  {
   "cell_type": "code",
   "execution_count": 66,
   "id": "f5468169",
   "metadata": {
    "ExecuteTime": {
     "end_time": "2022-09-20T11:12:32.229956Z",
     "start_time": "2022-09-20T11:12:32.218995Z"
    }
   },
   "outputs": [],
   "source": [
    "import tensorflow as tf"
   ]
  },
  {
   "cell_type": "code",
   "execution_count": 67,
   "id": "67b74f35",
   "metadata": {
    "ExecuteTime": {
     "end_time": "2022-09-20T11:12:32.404222Z",
     "start_time": "2022-09-20T11:12:32.382214Z"
    }
   },
   "outputs": [],
   "source": [
    "model = tf.keras.Sequential([\n",
    "    tf.keras.layers.Dense(30,input_shape=(784,),activation  = 'relu'),\n",
    "    tf.keras.layers.Dense(30,activation='relu'),\n",
    "    tf.keras.layers.Dense(10,activation='relu'),\n",
    "    tf.keras.layers.Dense(10,activation='softmax')\n",
    "    ])"
   ]
  },
  {
   "cell_type": "code",
   "execution_count": 68,
   "id": "1f45c19c",
   "metadata": {
    "ExecuteTime": {
     "end_time": "2022-09-20T11:12:33.081995Z",
     "start_time": "2022-09-20T11:12:33.070995Z"
    }
   },
   "outputs": [
    {
     "name": "stdout",
     "output_type": "stream",
     "text": [
      "Model: \"sequential_2\"\n",
      "_________________________________________________________________\n",
      "Layer (type)                 Output Shape              Param #   \n",
      "=================================================================\n",
      "dense_8 (Dense)              (None, 30)                23550     \n",
      "_________________________________________________________________\n",
      "dense_9 (Dense)              (None, 30)                930       \n",
      "_________________________________________________________________\n",
      "dense_10 (Dense)             (None, 10)                310       \n",
      "_________________________________________________________________\n",
      "dense_11 (Dense)             (None, 10)                110       \n",
      "=================================================================\n",
      "Total params: 24,900\n",
      "Trainable params: 24,900\n",
      "Non-trainable params: 0\n",
      "_________________________________________________________________\n"
     ]
    }
   ],
   "source": [
    "model.summary()"
   ]
  },
  {
   "cell_type": "code",
   "execution_count": 69,
   "id": "6f5bca28",
   "metadata": {
    "ExecuteTime": {
     "end_time": "2022-09-20T11:12:33.494978Z",
     "start_time": "2022-09-20T11:12:33.482564Z"
    }
   },
   "outputs": [],
   "source": [
    "model.compile(optimizer='adam',\n",
    "              loss='categorical_crossentropy',\n",
    "              metrics=['acc'])"
   ]
  },
  {
   "cell_type": "code",
   "execution_count": 70,
   "id": "bdefdc8f",
   "metadata": {
    "ExecuteTime": {
     "end_time": "2022-09-20T11:12:54.452430Z",
     "start_time": "2022-09-20T11:12:33.947222Z"
    }
   },
   "outputs": [
    {
     "name": "stdout",
     "output_type": "stream",
     "text": [
      "Epoch 1/10\n",
      "1875/1875 [==============================] - 3s 1ms/step - loss: 0.4380 - acc: 0.8714 - val_loss: 0.2139 - val_acc: 0.9409\n",
      "Epoch 2/10\n",
      "1875/1875 [==============================] - 2s 1ms/step - loss: 0.1873 - acc: 0.9460 - val_loss: 0.1687 - val_acc: 0.9516\n",
      "Epoch 3/10\n",
      "1875/1875 [==============================] - 2s 1ms/step - loss: 0.1433 - acc: 0.9587 - val_loss: 0.1449 - val_acc: 0.9558\n",
      "Epoch 4/10\n",
      "1875/1875 [==============================] - 2s 1ms/step - loss: 0.1209 - acc: 0.9645 - val_loss: 0.1283 - val_acc: 0.9625\n",
      "Epoch 5/10\n",
      "1875/1875 [==============================] - 2s 985us/step - loss: 0.1030 - acc: 0.9694 - val_loss: 0.1282 - val_acc: 0.9612\n",
      "Epoch 6/10\n",
      "1875/1875 [==============================] - 2s 989us/step - loss: 0.0917 - acc: 0.9720 - val_loss: 0.1167 - val_acc: 0.9661\n",
      "Epoch 7/10\n",
      "1875/1875 [==============================] - 2s 1ms/step - loss: 0.0833 - acc: 0.9746 - val_loss: 0.1204 - val_acc: 0.9651\n",
      "Epoch 8/10\n",
      "1875/1875 [==============================] - 2s 1ms/step - loss: 0.0744 - acc: 0.9771 - val_loss: 0.1172 - val_acc: 0.9656\n",
      "Epoch 9/10\n",
      "1875/1875 [==============================] - 2s 1ms/step - loss: 0.0704 - acc: 0.9780 - val_loss: 0.1164 - val_acc: 0.9680\n",
      "Epoch 10/10\n",
      "1875/1875 [==============================] - 2s 1ms/step - loss: 0.0632 - acc: 0.9798 - val_loss: 0.1252 - val_acc: 0.9653\n"
     ]
    }
   ],
   "source": [
    "history = model.fit(train_image_resize,train_label_onehot,epochs=10,validation_data = (test_image_resize,test_label_onehot))"
   ]
  },
  {
   "cell_type": "code",
   "execution_count": 77,
   "id": "d610ddcc",
   "metadata": {
    "ExecuteTime": {
     "end_time": "2022-09-20T11:16:25.281604Z",
     "start_time": "2022-09-20T11:16:25.271124Z"
    }
   },
   "outputs": [],
   "source": [
    "import matplotlib.pyplot as plt"
   ]
  },
  {
   "cell_type": "code",
   "execution_count": 78,
   "id": "14f59444",
   "metadata": {
    "ExecuteTime": {
     "end_time": "2022-09-20T11:16:25.600569Z",
     "start_time": "2022-09-20T11:16:25.530588Z"
    }
   },
   "outputs": [
    {
     "data": {
      "text/plain": [
       "<matplotlib.legend.Legend at 0x1e2d450f160>"
      ]
     },
     "execution_count": 78,
     "metadata": {},
     "output_type": "execute_result"
    },
    {
     "data": {
      "image/png": "[encoded data removed]",
      "text/plain": [
       "<Figure size 432x288 with 1 Axes>"
      ]
     },
     "metadata": {
      "needs_background": "light"
     },
     "output_type": "display_data"
    }
   ],
   "source": [
    "plt.plot(history.epoch,history.history.get('loss'),label = 'loss')\n",
    "plt.plot(history.epoch,history.history.get('val_loss'),label = 'val_loss')\n",
    "plt.legend()"
   ]
  },
  {
   "cell_type": "code",
   "execution_count": 79,
   "id": "ddf190f3",
   "metadata": {
    "ExecuteTime": {
     "end_time": "2022-09-20T11:16:25.868396Z",
     "start_time": "2022-09-20T11:16:25.802390Z"
    },
    "scrolled": true
   },
   "outputs": [
    {
     "data": {
      "text/plain": [
       "<matplotlib.legend.Legend at 0x1e3105ed250>"
      ]
     },
     "execution_count": 79,
     "metadata": {},
     "output_type": "execute_result"
    },
    {
     "data": {
      "image/png": "[encoded data removed]",
      "text/plain": [
       "<Figure size 432x288 with 1 Axes>"
      ]
     },
     "metadata": {
      "needs_background": "light"
     },
     "output_type": "display_data"
    }
   ],
   "source": [
    "plt.plot(history.epoch,history.history.get('acc'),label = 'acc')\n",
    "plt.plot(history.epoch,history.history.get('val_acc'),label = 'val_acc')\n",
    "plt.legend()"
   ]
  },
  {
   "cell_type": "markdown",
   "id": "e573c630",
   "metadata": {
    "ExecuteTime": {
     "end_time": "2022-09-19T06:07:29.945011Z",
     "start_time": "2022-09-19T06:07:29.929531Z"
    }
   },
   "source": [
    "# 对模型权重和偏置进行量化生成mif文件"
   ]
  },
  {
   "cell_type": "code",
   "execution_count": 80,
   "id": "ca213b42",
   "metadata": {
    "ExecuteTime": {
     "end_time": "2022-09-20T11:16:27.948891Z",
     "start_time": "2022-09-20T11:16:27.934117Z"
    }
   },
   "outputs": [],
   "source": [
    "import json\n",
    "weight = model.get_weights()"
   ]
  },
  {
   "cell_type": "code",
   "execution_count": 81,
   "id": "40ed3d30",
   "metadata": {
    "ExecuteTime": {
     "end_time": "2022-09-20T11:16:30.868461Z",
     "start_time": "2022-09-20T11:16:30.850454Z"
    }
   },
   "outputs": [],
   "source": [
    "# 将 浮点数 量化成定点数\n",
    "def DtoB(num,dataWidth,fracBits):   #funtion for converting into two's complement format\n",
    "    if num >= 0:\n",
    "        num = num * (2**fracBits)\n",
    "        num = int(num)\n",
    "        d = num\n",
    "    else:\n",
    "        num = -num\n",
    "        num = num * (2**fracBits)    #number of fractional bits\n",
    "        num = int(num)\n",
    "        if num == 0:\n",
    "            d = 0\n",
    "        else:\n",
    "            d = 2**dataWidth - num\n",
    "    return d"
   ]
  },
  {
   "cell_type": "code",
   "execution_count": 107,
   "id": "5cfd1780",
   "metadata": {
    "ExecuteTime": {
     "end_time": "2022-09-20T12:14:29.254910Z",
     "start_time": "2022-09-20T12:14:29.252909Z"
    }
   },
   "outputs": [],
   "source": [
    "#定义数据位宽以及权重整数位宽和数据整数位宽\n",
    "outputPath = \"./w_b/\"\n",
    "weightIntWidth = 4\n",
    "dataWidth = 16\n",
    "dataIntWidth = 4\n",
    "dataFracWidth = dataWidth-dataIntWidth\n",
    "weightFracWidth = dataWidth-weightIntWidth\n",
    "biasIntWidth = dataIntWidth+weightIntWidth\n",
    "biasFracWidth = dataWidth-biasIntWidth"
   ]
  },
  {
   "cell_type": "code",
   "execution_count": 108,
   "id": "f090d953",
   "metadata": {
    "ExecuteTime": {
     "end_time": "2022-09-20T12:14:29.758677Z",
     "start_time": "2022-09-20T12:14:29.513647Z"
    }
   },
   "outputs": [],
   "source": [
    "#生成 权重的 mif 文件\n",
    "for layer in range(0,len(weight)//2):\n",
    "    for neuron in range(0,weight[2*layer].shape[1]):\n",
    "        file = 'w_'+str(layer+1)+'_'+str(neuron)+'.mif'\n",
    "        f = open(outputPath+file,'w')\n",
    "        for i in range(0,len(weight[2*layer])):\n",
    "            if 'e' in str(weight[2*layer][i][neuron]):\n",
    "                w = '0'\n",
    "            else:\n",
    "                if(weight[2*layer][i][neuron] > 2**(weightIntWidth-1)):\n",
    "                    weight[2*layer][i][neuron] = 2**(weightIntWidth-1)-2**(-weightFracWidth)\n",
    "                elif(weight[2*layer][i][neuron] < -2**(weightIntWidth-1)):\n",
    "                    weight[2*layer][i][neuron] = -2**(weightIntWidth-1)\n",
    "                p = bin(DtoB(weight[2*layer][i][neuron],dataWidth,weightFracWidth))[2:]\n",
    "            f.write(str(p)+'\\n')\n",
    "        f.close()"
   ]
  },
  {
   "cell_type": "code",
   "execution_count": 109,
   "id": "655eda55",
   "metadata": {
    "ExecuteTime": {
     "end_time": "2022-09-20T12:14:29.852856Z",
     "start_time": "2022-09-20T12:14:29.759677Z"
    }
   },
   "outputs": [],
   "source": [
    "# 生成偏置的 mif 文件\n",
    "for layer in range(0,len(weight)//2):\n",
    "    for neuron in range(0,weight[2*layer+1].shape[0]):\n",
    "        file = 'b_'+str(layer+1)+'_'+str(neuron)+'.mif'\n",
    "        f = open(outputPath+file,'w')\n",
    "        if 'e' in str(weight[2*layer+1][neuron]):\n",
    "            w = '0'\n",
    "        else:\n",
    "            if(weight[2*layer+1][neuron] > 2**(biasIntWidth-1)):\n",
    "                weight[2*layer+1][neuron] = 2**(biasIntWidth-1)-2**(-biasFracWidth)\n",
    "            elif(weight[2*layer+1][neuron] < -2**(biasIntWidth-1)):\n",
    "                weight[2*layer+1][neuron] = -2**(biasIntWidth-1)\n",
    "            p = bin(DtoB(weight[2*layer+1][neuron],dataWidth,biasFracWidth))[2:]\n",
    "        f.write(str(p)+'\\n')\n",
    "        f.close()"
   ]
  },
  {
   "cell_type": "code",
   "execution_count": 85,
   "id": "83c336bd",
   "metadata": {
    "ExecuteTime": {
     "end_time": "2022-09-20T11:16:34.321884Z",
     "start_time": "2022-09-20T11:16:34.306878Z"
    }
   },
   "outputs": [
    {
     "data": {
      "text/plain": [
       "0.27432325"
      ]
     },
     "execution_count": 85,
     "metadata": {},
     "output_type": "execute_result"
    }
   ],
   "source": [
    "weight[1][7]"
   ]
  },
  {
   "cell_type": "markdown",
   "id": "ec41cf80",
   "metadata": {},
   "source": [
    "# 生成测试数据"
   ]
  },
  {
   "cell_type": "code",
   "execution_count": 49,
   "id": "b6856c5c",
   "metadata": {
    "ExecuteTime": {
     "end_time": "2022-09-20T08:51:53.721238Z",
     "start_time": "2022-09-20T08:51:53.708281Z"
    }
   },
   "outputs": [
    {
     "data": {
      "text/plain": [
       "'1100011010'"
      ]
     },
     "execution_count": 49,
     "metadata": {},
     "output_type": "execute_result"
    }
   ],
   "source": [
    "bin(DtoB(weight[1][8],dataWidth,weightFracWidth))[2:]"
   ]
  },
  {
   "cell_type": "markdown",
   "id": "ed1d8c46",
   "metadata": {},
   "source": [
    "## 前面784个数据为数据 最后一个数据表示其分类"
   ]
  },
  {
   "cell_type": "code",
   "execution_count": 105,
   "id": "e97a058b",
   "metadata": {
    "ExecuteTime": {
     "end_time": "2022-09-20T12:14:18.065151Z",
     "start_time": "2022-09-20T12:14:18.060151Z"
    }
   },
   "outputs": [],
   "source": [
    "testoutputPath = \"./testData/\"\n",
    "dataWidth = 16                    \n",
    "IntSize = 4\n",
    "fracWidth = dataWidth - IntSize"
   ]
  },
  {
   "cell_type": "code",
   "execution_count": 106,
   "id": "fca1e70f",
   "metadata": {
    "ExecuteTime": {
     "end_time": "2022-09-20T12:14:23.118894Z",
     "start_time": "2022-09-20T12:14:18.595573Z"
    }
   },
   "outputs": [
    {
     "ename": "KeyboardInterrupt",
     "evalue": "",
     "output_type": "error",
     "traceback": [
      "\u001b[1;31m---------------------------------------------------------------------------\u001b[0m",
      "\u001b[1;31mKeyboardInterrupt\u001b[0m                         Traceback (most recent call last)",
      "Input \u001b[1;32mIn [106]\u001b[0m, in \u001b[0;36m<cell line: 2>\u001b[1;34m()\u001b[0m\n\u001b[0;32m     16\u001b[0m     f\u001b[38;5;241m.\u001b[39mwrite(\u001b[38;5;28mstr\u001b[39m(myData)\u001b[38;5;241m+\u001b[39m\u001b[38;5;124m'\u001b[39m\u001b[38;5;130;01m\\n\u001b[39;00m\u001b[38;5;124m'\u001b[39m)\n\u001b[0;32m     17\u001b[0m f\u001b[38;5;241m.\u001b[39mwrite(\u001b[38;5;28mstr\u001b[39m(\u001b[38;5;28mbin\u001b[39m(DtoB(test_label[i],dataWidth,\u001b[38;5;241m0\u001b[39m))[\u001b[38;5;241m2\u001b[39m:])\u001b[38;5;241m+\u001b[39m\u001b[38;5;124m'\u001b[39m\u001b[38;5;130;01m\\n\u001b[39;00m\u001b[38;5;124m'\u001b[39m)\n\u001b[1;32m---> 18\u001b[0m \u001b[43mf\u001b[49m\u001b[38;5;241;43m.\u001b[39;49m\u001b[43mclose\u001b[49m\u001b[43m(\u001b[49m\u001b[43m)\u001b[49m\n",
      "\u001b[1;31mKeyboardInterrupt\u001b[0m: "
     ]
    }
   ],
   "source": [
    "# 获取测试数据\n",
    "for i in range(0,test_image_resize.shape[0]):   #获取所有数据使用  test_image_resize.shape[0]\n",
    "    if i < 10:\n",
    "        file_name = \"000\" + str(i)\n",
    "    elif i < 100:\n",
    "        file_name = \"00\" + str(i)\n",
    "    elif i < 1000:\n",
    "        file_name = \"0\" + str(i)\n",
    "    else :\n",
    "        file_name = str(i)\n",
    "    file_name_final = 'test_data_' + file_name + '.txt'\n",
    "    f = open(testoutputPath + file_name_final ,'w')\n",
    "    for j in range(0,test_image_resize[i].shape[0]):\n",
    "        dInDec = DtoB(test_image_resize[i][j],dataWidth,fracWidth)\n",
    "        myData = bin(dInDec)[2:]\n",
    "        f.write(str(myData)+'\\n')\n",
    "    f.write(str(bin(DtoB(test_label[i],dataWidth,0))[2:])+'\\n')\n",
    "    f.close()"
   ]
  },
  {
   "cell_type": "code",
   "execution_count": 110,
   "id": "59f58b24",
   "metadata": {
    "ExecuteTime": {
     "end_time": "2022-09-20T12:14:34.056933Z",
     "start_time": "2022-09-20T12:14:33.056740Z"
    }
   },
   "outputs": [],
   "source": [
    "# 获取测试数据\n",
    "file_name_final = 'test.txt'\n",
    "f = open(testoutputPath + file_name_final ,'w')\n",
    "for i in range(0,1000):   #获取所有数据使用  test_image_resize.shape[0]\n",
    "    for j in range(0,test_image_resize[i].shape[0]):\n",
    "        dInDec = DtoB(test_image_resize[i][j],dataWidth,fracWidth)\n",
    "        myData = bin(dInDec)[2:]\n",
    "        f.write(str(myData)+'\\n')\n",
    "    f.write(str(bin(DtoB(test_label[i],dataWidth,0))[2:])+'\\n')\n",
    "f.close()"
   ]
  }
 ],
 "metadata": {
  "kernelspec": {
   "display_name": "Python 3 (ipykernel)",
   "language": "python",
   "name": "python3"
  },
  "language_info": {
   "codemirror_mode": {
    "name": "ipython",
    "version": 3
   },
   "file_extension": ".py",
   "mimetype": "text/x-python",
   "name": "python",
   "nbconvert_exporter": "python",
   "pygments_lexer": "ipython3",
   "version": "3.9.12"
  }
 },
 "nbformat": 4,
 "nbformat_minor": 5
}
