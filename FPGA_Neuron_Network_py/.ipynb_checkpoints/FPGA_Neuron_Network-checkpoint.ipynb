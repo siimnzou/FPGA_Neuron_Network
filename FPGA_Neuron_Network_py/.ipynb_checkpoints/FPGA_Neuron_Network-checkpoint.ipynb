{
 "cells": [
  {
   "cell_type": "markdown",
   "id": "67b7e5db",
   "metadata": {},
   "source": [
    "# 加载MNIST数据"
   ]
  },
  {
   "cell_type": "code",
   "execution_count": 1,
   "id": "0d6de6f9",
   "metadata": {
    "ExecuteTime": {
     "end_time": "2022-09-19T07:47:49.010801Z",
     "start_time": "2022-09-19T07:47:47.849053Z"
    }
   },
   "outputs": [],
   "source": [
    "import tensorflow as tf\n",
    "import numpy as np"
   ]
  },
  {
   "cell_type": "code",
   "execution_count": 2,
   "id": "e0f78e11",
   "metadata": {
    "ExecuteTime": {
     "end_time": "2022-09-19T07:47:49.340707Z",
     "start_time": "2022-09-19T07:47:49.011800Z"
    }
   },
   "outputs": [],
   "source": [
    "# 加载fishion_mnist\n",
    "(train_image,train_label),(test_image,test_label) = tf.keras.datasets.mnist.load_data()"
   ]
  },
  {
   "cell_type": "code",
   "execution_count": 3,
   "id": "841b5a95",
   "metadata": {
    "ExecuteTime": {
     "end_time": "2022-09-19T07:47:49.433385Z",
     "start_time": "2022-09-19T07:47:49.341706Z"
    }
   },
   "outputs": [],
   "source": [
    "train_image = train_image/255\n",
    "test_image = test_image/255"
   ]
  },
  {
   "cell_type": "code",
   "execution_count": 4,
   "id": "629b8527",
   "metadata": {
    "ExecuteTime": {
     "end_time": "2022-09-19T07:47:49.760354Z",
     "start_time": "2022-09-19T07:47:49.757364Z"
    }
   },
   "outputs": [],
   "source": [
    "train_image_resize = np.reshape(train_image,(60000,784))\n",
    "test_image_resize = np.reshape(test_image,(10000,784))"
   ]
  },
  {
   "cell_type": "code",
   "execution_count": 5,
   "id": "d0b2c5f0",
   "metadata": {
    "ExecuteTime": {
     "end_time": "2022-09-19T07:47:50.450743Z",
     "start_time": "2022-09-19T07:47:50.432661Z"
    }
   },
   "outputs": [],
   "source": [
    "train_label_onehot = tf.keras.utils.to_categorical(train_label)\n",
    "test_label_onehot  = tf.keras.utils.to_categorical(test_label)"
   ]
  },
  {
   "cell_type": "markdown",
   "id": "020c64c3",
   "metadata": {},
   "source": [
    "# Tensorflow 训练神经网络模型"
   ]
  },
  {
   "cell_type": "code",
   "execution_count": 6,
   "id": "7ca4fd5e",
   "metadata": {
    "ExecuteTime": {
     "end_time": "2022-09-19T07:47:51.623350Z",
     "start_time": "2022-09-19T07:47:51.616373Z"
    }
   },
   "outputs": [],
   "source": [
    "import tensorflow as tf"
   ]
  },
  {
   "cell_type": "code",
   "execution_count": 7,
   "id": "3ae23844",
   "metadata": {
    "ExecuteTime": {
     "end_time": "2022-09-19T07:47:53.676931Z",
     "start_time": "2022-09-19T07:47:53.049591Z"
    }
   },
   "outputs": [],
   "source": [
    "model = tf.keras.Sequential([\n",
    "    tf.keras.layers.Dense(30,input_shape=(784,),activation  = 'relu'),\n",
    "    tf.keras.layers.Dense(30,activation='relu'),\n",
    "    tf.keras.layers.Dense(10,activation='relu'),\n",
    "    tf.keras.layers.Dense(10,activation='softmax')\n",
    "    ])"
   ]
  },
  {
   "cell_type": "code",
   "execution_count": 8,
   "id": "59c6044d",
   "metadata": {
    "ExecuteTime": {
     "end_time": "2022-09-19T07:47:53.801635Z",
     "start_time": "2022-09-19T07:47:53.792666Z"
    }
   },
   "outputs": [
    {
     "name": "stdout",
     "output_type": "stream",
     "text": [
      "Model: \"sequential\"\n",
      "_________________________________________________________________\n",
      "Layer (type)                 Output Shape              Param #   \n",
      "=================================================================\n",
      "dense (Dense)                (None, 30)                23550     \n",
      "_________________________________________________________________\n",
      "dense_1 (Dense)              (None, 30)                930       \n",
      "_________________________________________________________________\n",
      "dense_2 (Dense)              (None, 10)                310       \n",
      "_________________________________________________________________\n",
      "dense_3 (Dense)              (None, 10)                110       \n",
      "=================================================================\n",
      "Total params: 24,900\n",
      "Trainable params: 24,900\n",
      "Non-trainable params: 0\n",
      "_________________________________________________________________\n"
     ]
    }
   ],
   "source": [
    "model.summary()"
   ]
  },
  {
   "cell_type": "code",
   "execution_count": 9,
   "id": "c920e371",
   "metadata": {
    "ExecuteTime": {
     "end_time": "2022-09-19T07:47:54.797144Z",
     "start_time": "2022-09-19T07:47:54.789045Z"
    }
   },
   "outputs": [],
   "source": [
    "model.compile(optimizer='adam',\n",
    "              loss='categorical_crossentropy',\n",
    "              metrics=['acc'])"
   ]
  },
  {
   "cell_type": "code",
   "execution_count": 10,
   "id": "fa1bf546",
   "metadata": {
    "ExecuteTime": {
     "end_time": "2022-09-19T07:48:15.988558Z",
     "start_time": "2022-09-19T07:47:55.540406Z"
    }
   },
   "outputs": [
    {
     "name": "stdout",
     "output_type": "stream",
     "text": [
      "Epoch 1/10\n",
      "1875/1875 [==============================] - 3s 1ms/step - loss: 0.4248 - acc: 0.8694 - val_loss: 0.2204 - val_acc: 0.9336\n",
      "Epoch 2/10\n",
      "1875/1875 [==============================] - 2s 989us/step - loss: 0.1794 - acc: 0.9472 - val_loss: 0.1723 - val_acc: 0.9469\n",
      "Epoch 3/10\n",
      "1875/1875 [==============================] - 2s 1ms/step - loss: 0.1414 - acc: 0.9574 - val_loss: 0.1374 - val_acc: 0.9590\n",
      "Epoch 4/10\n",
      "1875/1875 [==============================] - 2s 1ms/step - loss: 0.1203 - acc: 0.9637 - val_loss: 0.1574 - val_acc: 0.9543\n",
      "Epoch 5/10\n",
      "1875/1875 [==============================] - 2s 1ms/step - loss: 0.1064 - acc: 0.9676 - val_loss: 0.1280 - val_acc: 0.9615\n",
      "Epoch 6/10\n",
      "1875/1875 [==============================] - 2s 1ms/step - loss: 0.0939 - acc: 0.9716 - val_loss: 0.1302 - val_acc: 0.9614\n",
      "Epoch 7/10\n",
      "1875/1875 [==============================] - 2s 1ms/step - loss: 0.0845 - acc: 0.9739 - val_loss: 0.1210 - val_acc: 0.9632\n",
      "Epoch 8/10\n",
      "1875/1875 [==============================] - 2s 1ms/step - loss: 0.0787 - acc: 0.9755 - val_loss: 0.1171 - val_acc: 0.9653\n",
      "Epoch 9/10\n",
      "1875/1875 [==============================] - 2s 1ms/step - loss: 0.0707 - acc: 0.9781 - val_loss: 0.1213 - val_acc: 0.9661\n",
      "Epoch 10/10\n",
      "1875/1875 [==============================] - 2s 1ms/step - loss: 0.0651 - acc: 0.9800 - val_loss: 0.1226 - val_acc: 0.9652\n"
     ]
    }
   ],
   "source": [
    "history = model.fit(train_image_resize,train_label_onehot,epochs=10,validation_data = (test_image_resize,test_label_onehot))"
   ]
  },
  {
   "cell_type": "code",
   "execution_count": 11,
   "id": "8f2dbe8c",
   "metadata": {
    "ExecuteTime": {
     "end_time": "2022-09-19T07:48:16.345431Z",
     "start_time": "2022-09-19T07:48:15.989557Z"
    }
   },
   "outputs": [],
   "source": [
    "import matplotlib.pyplot as plt"
   ]
  },
  {
   "cell_type": "code",
   "execution_count": 12,
   "id": "eddb4601",
   "metadata": {
    "ExecuteTime": {
     "end_time": "2022-09-19T07:48:16.423311Z",
     "start_time": "2022-09-19T07:48:16.346428Z"
    }
   },
   "outputs": [
    {
     "data": {
      "text/plain": [
       "<matplotlib.legend.Legend at 0x24588b5cd60>"
      ]
     },
     "execution_count": 12,
     "metadata": {},
     "output_type": "execute_result"
    },
    {
     "data": {
      "image/png": "[encoded data removed]",
      "text/plain": [
       "<Figure size 432x288 with 1 Axes>"
      ]
     },
     "metadata": {
      "needs_background": "light"
     },
     "output_type": "display_data"
    }
   ],
   "source": [
    "plt.plot(history.epoch,history.history.get('loss'),label = 'loss')\n",
    "plt.plot(history.epoch,history.history.get('val_loss'),label = 'val_loss')\n",
    "plt.legend()"
   ]
  },
  {
   "cell_type": "code",
   "execution_count": 13,
   "id": "03ff8bd3",
   "metadata": {
    "ExecuteTime": {
     "end_time": "2022-09-19T07:48:16.486497Z",
     "start_time": "2022-09-19T07:48:16.424307Z"
    },
    "scrolled": true
   },
   "outputs": [
    {
     "data": {
      "text/plain": [
       "<matplotlib.legend.Legend at 0x24588afe880>"
      ]
     },
     "execution_count": 13,
     "metadata": {},
     "output_type": "execute_result"
    },
    {
     "data": {
      "image/png": "[encoded data removed]",
      "text/plain": [
       "<Figure size 432x288 with 1 Axes>"
      ]
     },
     "metadata": {
      "needs_background": "light"
     },
     "output_type": "display_data"
    }
   ],
   "source": [
    "plt.plot(history.epoch,history.history.get('acc'),label = 'acc')\n",
    "plt.plot(history.epoch,history.history.get('val_acc'),label = 'val_acc')\n",
    "plt.legend()"
   ]
  },
  {
   "cell_type": "markdown",
   "id": "ae1c29a9",
   "metadata": {
    "ExecuteTime": {
     "end_time": "2022-09-19T06:07:29.945011Z",
     "start_time": "2022-09-19T06:07:29.929531Z"
    }
   },
   "source": [
    "# 对模型权重和偏置进行量化生成mif文件"
   ]
  },
  {
   "cell_type": "code",
   "execution_count": 14,
   "id": "08869be0",
   "metadata": {
    "ExecuteTime": {
     "end_time": "2022-09-19T07:49:34.658030Z",
     "start_time": "2022-09-19T07:49:34.649042Z"
    }
   },
   "outputs": [],
   "source": [
    "import json\n",
    "weight = model.get_weights()"
   ]
  },
  {
   "cell_type": "code",
   "execution_count": 15,
   "id": "de248752",
   "metadata": {
    "ExecuteTime": {
     "end_time": "2022-09-19T07:49:35.374189Z",
     "start_time": "2022-09-19T07:49:35.356852Z"
    }
   },
   "outputs": [],
   "source": [
    "# 将 浮点数 量化成定点数\n",
    "def DtoB(num,dataWidth,fracBits):   #funtion for converting into two's complement format\n",
    "    if num >= 0:\n",
    "        num = num * (2**fracBits)\n",
    "        num = int(num)\n",
    "        d = num\n",
    "    else:\n",
    "        num = -num\n",
    "        num = num * (2**fracBits)    #number of fractional bits\n",
    "        num = int(num)\n",
    "        if num == 0:\n",
    "            d = 0\n",
    "        else:\n",
    "            d = 2**dataWidth - num\n",
    "    return d"
   ]
  },
  {
   "cell_type": "code",
   "execution_count": 16,
   "id": "d95bab11",
   "metadata": {
    "ExecuteTime": {
     "end_time": "2022-09-19T07:49:35.982137Z",
     "start_time": "2022-09-19T07:49:35.965174Z"
    }
   },
   "outputs": [],
   "source": [
    "#定义数据位宽以及权重整数位宽和数据整数位宽\n",
    "outputPath = \"./w_b/\"\n",
    "weightIntWidth = 4\n",
    "dataWidth = 16\n",
    "dataIntWidth=1\n",
    "dataFracWidth = dataWidth-dataIntWidth\n",
    "weightFracWidth = dataWidth-weightIntWidth\n",
    "biasIntWidth = dataIntWidth+weightIntWidth\n",
    "biasFracWidth = dataWidth-biasIntWidth"
   ]
  },
  {
   "cell_type": "code",
   "execution_count": 17,
   "id": "5f78fdbd",
   "metadata": {
    "ExecuteTime": {
     "end_time": "2022-09-19T07:49:37.290896Z",
     "start_time": "2022-09-19T07:49:36.549430Z"
    }
   },
   "outputs": [],
   "source": [
    "#生成 权重的 mif 文件\n",
    "for layer in range(0,len(weight)//2):\n",
    "    for neuron in range(0,weight[2*layer].shape[1]):\n",
    "        file = 'w_'+str(layer+1)+'_'+str(neuron)+'.mif'\n",
    "        f = open(outputPath+file,'w')\n",
    "        for i in range(0,len(weight[2*layer])):\n",
    "            if 'e' in str(weight[2*layer][i][neuron]):\n",
    "                w = '0'\n",
    "            else:\n",
    "                if(weight[2*layer][i][neuron] > 2**(weightIntWidth-1)):\n",
    "                    weight[2*layer][i][neuron] = 2**(weightIntWidth-1)-2**(-weightFracWidth)\n",
    "                elif(weight[2*layer][i][neuron] < -2**(weightIntWidth-1)):\n",
    "                    weight[2*layer][i][neuron] = -2**(weightIntWidth-1)\n",
    "                p = bin(DtoB(weight[2*layer][i][neuron],dataWidth,weightFracWidth))[2:]\n",
    "            f.write(str(p)+'\\n')\n",
    "        f.close()"
   ]
  },
  {
   "cell_type": "code",
   "execution_count": 18,
   "id": "a31ff67c",
   "metadata": {
    "ExecuteTime": {
     "end_time": "2022-09-19T07:49:37.354564Z",
     "start_time": "2022-09-19T07:49:37.292889Z"
    }
   },
   "outputs": [],
   "source": [
    "# 生成偏置的 mif 文件\n",
    "for layer in range(0,len(weight)//2):\n",
    "    for neuron in range(0,weight[2*layer+1].shape[0]):\n",
    "        file = 'b_'+str(layer+1)+'_'+str(neuron)+'.mif'\n",
    "        f = open(outputPath+file,'w')\n",
    "        if 'e' in str(weight[2*layer+1][neuron]):\n",
    "            w = '0'\n",
    "        else:\n",
    "            if(weight[2*layer+1][neuron] > 2**(weightIntWidth-1)):\n",
    "                weight[2*layer+1][neuron] = 2**(weightIntWidth-1)-2**(-weightFracWidth)\n",
    "            elif(weight[2*layer+1][neuron] < -2**(weightIntWidth-1)):\n",
    "                weight[2*layer+1][neuron] = -2**(weightIntWidth-1)\n",
    "            p = bin(DtoB(weight[2*layer+1][neuron],dataWidth,weightFracWidth))[2:]\n",
    "        f.write(str(p)+'\\n')\n",
    "        f.close()"
   ]
  },
  {
   "cell_type": "markdown",
   "id": "3dadbc61",
   "metadata": {},
   "source": [
    "# 生成测试数据"
   ]
  },
  {
   "cell_type": "markdown",
   "id": "ebf63e7d",
   "metadata": {},
   "source": [
    "## 前面784个数据为数据 最后一个数据表示其分类"
   ]
  },
  {
   "cell_type": "code",
   "execution_count": 53,
   "id": "21d65361",
   "metadata": {
    "ExecuteTime": {
     "end_time": "2022-09-19T08:54:14.285637Z",
     "start_time": "2022-09-19T08:54:14.278660Z"
    }
   },
   "outputs": [],
   "source": [
    "testoutputPath = \"./testData/\"\n",
    "dataWidth = 16                    \n",
    "IntSize = 1 \n",
    "fracWidth = dataWidth - IntSize"
   ]
  },
  {
   "cell_type": "code",
   "execution_count": 89,
   "id": "fbaadcde",
   "metadata": {
    "ExecuteTime": {
     "end_time": "2022-09-19T09:18:50.532328Z",
     "start_time": "2022-09-19T09:18:28.744152Z"
    }
   },
   "outputs": [],
   "source": [
    "# 获取测试数据\n",
    "for i in range(0,test_image_resize.shape[0]):   #获取所有数据使用  test_image_resize.shape[0]\n",
    "    if i < 10:\n",
    "        file_name = \"000\" + str(i)\n",
    "    elif i < 100:\n",
    "        file_name = \"00\" + str(i)\n",
    "    elif i < 1000:\n",
    "        file_name = \"0\" + str(i)\n",
    "    else :\n",
    "        file_name = str(i)\n",
    "    file_name_final = 'test_data_' + file_name + '.txt'\n",
    "    f = open(testoutputPath + file_name_final ,'w')\n",
    "    for j in range(0,test_image_resize[i].shape[0]):\n",
    "        dInDec = DtoB(test_image_resize[i][j],dataWidth,fracWidth)\n",
    "        myData = bin(dInDec)[2:]\n",
    "        f.write(str(myData)+'\\n')\n",
    "    f.write(str(bin(DtoB(test_label[i],dataWidth,0))[2:])+'\\n')\n",
    "    f.close()"
   ]
  },
  {
   "cell_type": "code",
   "execution_count": null,
   "id": "648b05dc",
   "metadata": {},
   "outputs": [],
   "source": []
  }
 ],
 "metadata": {
  "kernelspec": {
   "display_name": "Python 3 (ipykernel)",
   "language": "python",
   "name": "python3"
  },
  "language_info": {
   "codemirror_mode": {
    "name": "ipython",
    "version": 3
   },
   "file_extension": ".py",
   "mimetype": "text/x-python",
   "name": "python",
   "nbconvert_exporter": "python",
   "pygments_lexer": "ipython3",
   "version": "3.9.12"
  }
 },
 "nbformat": 4,
 "nbformat_minor": 5
}
